{
 "cells": [
  {
   "cell_type": "code",
   "execution_count": 72,
   "metadata": {},
   "outputs": [
    {
     "name": "stdout",
     "output_type": "stream",
     "text": [
      "The autoreload extension is already loaded. To reload it, use:\n",
      "  %reload_ext autoreload\n"
     ]
    }
   ],
   "source": [
    "import pandas as pd\n",
    "from tools.api_call import *\n",
    "%load_ext autoreload\n",
    "%autoreload 2"
   ]
  },
  {
   "cell_type": "code",
   "execution_count": 67,
   "metadata": {},
   "outputs": [],
   "source": [
    "michelin_df = pd.read_csv('michelin_my_maps.csv')"
   ]
  },
  {
   "cell_type": "code",
   "execution_count": 45,
   "metadata": {},
   "outputs": [],
   "source": [
    "europe_indexes = [113,83,114,71,106,72,29,54,101,34]\n",
    "asia_indexes = [139,67,51,79,265]\n",
    "usa_indexes = [42,43,44,45,46]"
   ]
  },
  {
   "cell_type": "code",
   "execution_count": 85,
   "metadata": {},
   "outputs": [
    {
     "data": {
      "text/plain": [
       "Name                                             Enrico Bartolini al Mudec\n",
       "Address                                via Tortona 56, Milan, 20144, Italy\n",
       "Location                                                      Milan, Italy\n",
       "Price                                                                 €€€€\n",
       "Cuisine                                                           Creative\n",
       "Longitude                                                         9.161865\n",
       "Latitude                                                           45.4516\n",
       "PhoneNumber                                                 390284293701.0\n",
       "Url                      https://guide.michelin.com/en/lombardia/milano...\n",
       "WebsiteUrl                                  http://www.enricobartolini.net\n",
       "Award                                                              3 Stars\n",
       "FacilitiesAndServices    Air conditioning,Car park,Interesting wine lis...\n",
       "Description              Enrico Bartolini, who has been awarded more Mi...\n",
       "QueryText                Enrico Bartolini al Mudec via Tortona 56, Mila...\n",
       "Name: 34, dtype: object"
      ]
     },
     "execution_count": 85,
     "metadata": {},
     "output_type": "execute_result"
    }
   ],
   "source": [
    "test_entry = michelin_df.loc[34]\n",
    "test_entry"
   ]
  },
  {
   "cell_type": "code",
   "execution_count": 69,
   "metadata": {},
   "outputs": [],
   "source": [
    "michelin_df[\"QueryText\"] = michelin_df[\"Name\"] + \" \" + michelin_df[\"Address\"]"
   ]
  },
  {
   "cell_type": "code",
   "execution_count": 58,
   "metadata": {},
   "outputs": [
    {
     "data": {
      "text/plain": [
       "'ChIJeccu5jrfx0cRZq9zP23EeIE'"
      ]
     },
     "execution_count": 58,
     "metadata": {},
     "output_type": "execute_result"
    }
   ],
   "source": [
    "location_id = get_google_location_id(test_entry['Latitude'], test_entry['Longitude'])\n",
    "location_id"
   ]
  },
  {
   "cell_type": "code",
   "execution_count": 63,
   "metadata": {},
   "outputs": [
    {
     "data": {
      "text/plain": [
       "{'name': 'places/ChIJZTzQ4y_fx0cR4m292pUWJyM',\n",
       " 'id': 'ChIJZTzQ4y_fx0cR4m292pUWJyM',\n",
       " 'types': ['hotel',\n",
       "  'lodging',\n",
       "  'restaurant',\n",
       "  'food',\n",
       "  'point_of_interest',\n",
       "  'establishment'],\n",
       " 'nationalPhoneNumber': '038 853 0000',\n",
       " 'internationalPhoneNumber': '+31 38 853 0000',\n",
       " 'formattedAddress': 'Spinhuisplein 1, 8011 ZZ Zwolle, Netherlands',\n",
       " 'addressComponents': [{'longText': '1',\n",
       "   'shortText': '1',\n",
       "   'types': ['street_number'],\n",
       "   'languageCode': 'en-US'},\n",
       "  {'longText': 'Spinhuisplein',\n",
       "   'shortText': 'Spinhuisplein',\n",
       "   'types': ['route'],\n",
       "   'languageCode': 'nl'},\n",
       "  {'longText': 'Zwolle',\n",
       "   'shortText': 'Zwolle',\n",
       "   'types': ['locality', 'political'],\n",
       "   'languageCode': 'nl'},\n",
       "  {'longText': 'Zwolle',\n",
       "   'shortText': 'Zwolle',\n",
       "   'types': ['administrative_area_level_2', 'political'],\n",
       "   'languageCode': 'nl'},\n",
       "  {'longText': 'Overijssel',\n",
       "   'shortText': 'OV',\n",
       "   'types': ['administrative_area_level_1', 'political'],\n",
       "   'languageCode': 'nl'},\n",
       "  {'longText': 'Netherlands',\n",
       "   'shortText': 'NL',\n",
       "   'types': ['country', 'political'],\n",
       "   'languageCode': 'en'},\n",
       "  {'longText': '8011 ZZ',\n",
       "   'shortText': '8011 ZZ',\n",
       "   'types': ['postal_code'],\n",
       "   'languageCode': 'en-US'}],\n",
       " 'plusCode': {'globalCode': '9F48G38X+54',\n",
       "  'compoundCode': 'G38X+54 Zwolle, Netherlands'},\n",
       " 'location': {'latitude': 52.515378, 'longitude': 6.0977888},\n",
       " 'viewport': {'low': {'latitude': 52.5141829697085,\n",
       "   'longitude': 6.096424369708498},\n",
       "  'high': {'latitude': 52.51688093029149, 'longitude': 6.099122330291503}},\n",
       " 'rating': 4.8,\n",
       " 'googleMapsUri': 'https://maps.google.com/?cid=2533018148294979042',\n",
       " 'websiteUri': 'http://www.librije.com/',\n",
       " 'utcOffsetMinutes': 60,\n",
       " 'adrFormatAddress': '<span class=\"street-address\">Spinhuisplein 1</span>, <span class=\"postal-code\">8011 ZZ</span> <span class=\"locality\">Zwolle</span>, <span class=\"country-name\">Netherlands</span>',\n",
       " 'businessStatus': 'OPERATIONAL',\n",
       " 'userRatingCount': 942,\n",
       " 'iconMaskBaseUri': 'https://maps.gstatic.com/mapfiles/place_api/icons/v2/hotel_pinlet',\n",
       " 'iconBackgroundColor': '#909CE1',\n",
       " 'displayName': {'text': 'De Librije', 'languageCode': 'en'},\n",
       " 'primaryTypeDisplayName': {'text': 'Hotel', 'languageCode': 'en-US'},\n",
       " 'primaryType': 'hotel',\n",
       " 'shortFormattedAddress': 'Spinhuisplein 1, Zwolle',\n",
       " 'editorialSummary': {'text': 'Upscale lodging in a former prison offering modern rooms & suites, plus a renowned restaurant.',\n",
       "  'languageCode': 'en'},\n",
       " 'reviews': [{'name': 'places/ChIJZTzQ4y_fx0cR4m292pUWJyM/reviews/ChZDSUhNMG9nS0VJQ0FnSUNaako3ME93EAE',\n",
       "   'relativePublishTimeDescription': '6 months ago',\n",
       "   'rating': 5,\n",
       "   'text': {'text': 'The most amazing meal I have ever had, it was our first time in this restaurant and we highly recommend this experience to anyone visiting Holland and the great city of Zwolle, First the food was unbelievable the unique way it was served and the most delicious flavors from beginning to end it was an enjoyable journey for the palate and it seemed to have no end throughout the evening and left us wanting for more and then to add to this the service and welcoming attitudes from all the staff led by the chef himself who took the time from his busy schedule to acknowledge both me and my wife after which we were taken on a tour of the kitchen which was a model of cleanliness and precision, add to this the atmosphere and perfect lighting and decor throughout the restaurant.\\nThis restaurant is the best experience one can have it is beyond the food it leaves you wanting for more and yet extremely satisfied.',\n",
       "    'languageCode': 'en'},\n",
       "   'originalText': {'text': 'The most amazing meal I have ever had, it was our first time in this restaurant and we highly recommend this experience to anyone visiting Holland and the great city of Zwolle, First the food was unbelievable the unique way it was served and the most delicious flavors from beginning to end it was an enjoyable journey for the palate and it seemed to have no end throughout the evening and left us wanting for more and then to add to this the service and welcoming attitudes from all the staff led by the chef himself who took the time from his busy schedule to acknowledge both me and my wife after which we were taken on a tour of the kitchen which was a model of cleanliness and precision, add to this the atmosphere and perfect lighting and decor throughout the restaurant.\\nThis restaurant is the best experience one can have it is beyond the food it leaves you wanting for more and yet extremely satisfied.',\n",
       "    'languageCode': 'en'},\n",
       "   'authorAttribution': {'displayName': 'Meir Markovich',\n",
       "    'uri': 'https://www.google.com/maps/contrib/102649665583796478954/reviews',\n",
       "    'photoUri': 'https://lh3.googleusercontent.com/a/ACg8ocJ3hWJFr9_KgLGswuwkeL-7TYiN2MVTugso54MupFZW=s128-c0x00000000-cc-rp-mo'},\n",
       "   'publishTime': '2023-09-05T13:38:15Z'},\n",
       "  {'name': 'places/ChIJZTzQ4y_fx0cR4m292pUWJyM/reviews/ChdDSUhNMG9nS0VJQ0FnSUM1enNPLXpBRRAB',\n",
       "   'relativePublishTimeDescription': '5 months ago',\n",
       "   'rating': 5,\n",
       "   'text': {'text': 'We went to the Librije for our 10 year anniversary and we had an amazing time! Sarah, Tim and colleagues provided lovely service. It was nice that Jonnie and Thérèse visited the table early during our lunch, introducing the servers for the day.\\n\\nWe decided to go for the regular 7-course menu, including cheeses. We enjoyed every dish and tastes were on point. Although there are a lot of dishes served, it never feels rushed.\\n\\nAt the end of our lunch we were asked if we’d like to move to the lounge and enjoy our tea, coffee and dessert amuses there. So that they could get ready and set things up for the dinnerservice. No problem ofcourse, but when we wanted to pay, we had some trouble getting someone’s attention.',\n",
       "    'languageCode': 'en'},\n",
       "   'originalText': {'text': 'We went to the Librije for our 10 year anniversary and we had an amazing time! Sarah, Tim and colleagues provided lovely service. It was nice that Jonnie and Thérèse visited the table early during our lunch, introducing the servers for the day.\\n\\nWe decided to go for the regular 7-course menu, including cheeses. We enjoyed every dish and tastes were on point. Although there are a lot of dishes served, it never feels rushed.\\n\\nAt the end of our lunch we were asked if we’d like to move to the lounge and enjoy our tea, coffee and dessert amuses there. So that they could get ready and set things up for the dinnerservice. No problem ofcourse, but when we wanted to pay, we had some trouble getting someone’s attention.',\n",
       "    'languageCode': 'en'},\n",
       "   'authorAttribution': {'displayName': 'Alexander de Jong',\n",
       "    'uri': 'https://www.google.com/maps/contrib/107268524835122089200/reviews',\n",
       "    'photoUri': 'https://lh3.googleusercontent.com/a-/ALV-UjUCSz7aYw5nwWTTcvOwRwQbRZ66vvlUfLx5xlGKmSWj7E0=s128-c0x00000000-cc-rp-mo'},\n",
       "   'publishTime': '2023-10-13T13:45:48Z'},\n",
       "  {'name': 'places/ChIJZTzQ4y_fx0cR4m292pUWJyM/reviews/ChdDSUhNMG9nS0VJQ0FnSUR4dmRHZXhBRRAB',\n",
       "   'relativePublishTimeDescription': '4 months ago',\n",
       "   'rating': 5,\n",
       "   'text': {'text': 'De Librije is currently my only 3 Michelin Star, this experience still is the crown jewel out of my culinary journey..\\n\\nThey present you with a passport showing where all their ingredients are sourced from.\\nSome dishes combine flavours you wouldn’t have expected, their chefs have a way of showing their well-travelled prowess as they borrow flavours like pandan. In other instances, they let the quality of the ingredients shine through like the marigold egg dish.\\n\\nDefinitely take the time to experience this meal if you’re in the area!',\n",
       "    'languageCode': 'en'},\n",
       "   'originalText': {'text': 'De Librije is currently my only 3 Michelin Star, this experience still is the crown jewel out of my culinary journey..\\n\\nThey present you with a passport showing where all their ingredients are sourced from.\\nSome dishes combine flavours you wouldn’t have expected, their chefs have a way of showing their well-travelled prowess as they borrow flavours like pandan. In other instances, they let the quality of the ingredients shine through like the marigold egg dish.\\n\\nDefinitely take the time to experience this meal if you’re in the area!',\n",
       "    'languageCode': 'en'},\n",
       "   'authorAttribution': {'displayName': 'Edwin Philippe Alegre',\n",
       "    'uri': 'https://www.google.com/maps/contrib/113282625250295295754/reviews',\n",
       "    'photoUri': 'https://lh3.googleusercontent.com/a-/ALV-UjVBRel41aZTUtF2-qGKoyPNtJpdPVW3ME7Ty6UcqEvnqQ=s128-c0x00000000-cc-rp-mo-ba4'},\n",
       "   'publishTime': '2023-11-03T14:58:53Z'},\n",
       "  {'name': 'places/ChIJZTzQ4y_fx0cR4m292pUWJyM/reviews/ChdDSUhNMG9nS0VJQ0FnSUNwMlBHSW1BRRAB',\n",
       "   'relativePublishTimeDescription': '7 months ago',\n",
       "   'rating': 3,\n",
       "   'text': {'text': 'Excited for our first time in a Michelin restaurant, we didn\\'t know what to expect. The warm welcome put us at ease, but we weren\\'t fond of how close the tables were to each other. The explanation of the food was nice, and since we don\\'t drink wine, we opted for mocktails.\\n\\nThe taste of the food was indescribable, but it didn\\'t have that \"WOW\" effect we were hoping for. Unfortunately, most dishes seemed simple and lacked the artistic touch we anticipated.\\n\\nTowards the end, they presented a Dutch map with sweets from different districts, but we noticed it was dirty (check photo). When we mentioned it to the waitress, she surprisingly didn\\'t react, which was odd given the significant amount we paid for the meal. We expected better attention to hygiene. 😐',\n",
       "    'languageCode': 'en'},\n",
       "   'originalText': {'text': 'Excited for our first time in a Michelin restaurant, we didn\\'t know what to expect. The warm welcome put us at ease, but we weren\\'t fond of how close the tables were to each other. The explanation of the food was nice, and since we don\\'t drink wine, we opted for mocktails.\\n\\nThe taste of the food was indescribable, but it didn\\'t have that \"WOW\" effect we were hoping for. Unfortunately, most dishes seemed simple and lacked the artistic touch we anticipated.\\n\\nTowards the end, they presented a Dutch map with sweets from different districts, but we noticed it was dirty (check photo). When we mentioned it to the waitress, she surprisingly didn\\'t react, which was odd given the significant amount we paid for the meal. We expected better attention to hygiene. 😐',\n",
       "    'languageCode': 'en'},\n",
       "   'authorAttribution': {'displayName': 'Mi',\n",
       "    'uri': 'https://www.google.com/maps/contrib/100937443105860991225/reviews',\n",
       "    'photoUri': 'https://lh3.googleusercontent.com/a-/ALV-UjWvJVRLbs3vfPMczwiV88TqyqRXMWQRFoB4ElI9II-EqoE=s128-c0x00000000-cc-rp-mo-ba5'},\n",
       "   'publishTime': '2023-07-30T10:25:58Z'},\n",
       "  {'name': 'places/ChIJZTzQ4y_fx0cR4m292pUWJyM/reviews/ChdDSUhNMG9nS0VJQ0FnSUR0dUs2UXFRRRAB',\n",
       "   'relativePublishTimeDescription': 'a month ago',\n",
       "   'rating': 4,\n",
       "   'text': {'text': 'Even though it’s a collab with KLM, the food actually tasted different and good. Can’t wait to try the actual restaurant.',\n",
       "    'languageCode': 'en'},\n",
       "   'originalText': {'text': 'Even though it’s a collab with KLM, the food actually tasted different and good. Can’t wait to try the actual restaurant.',\n",
       "    'languageCode': 'en'},\n",
       "   'authorAttribution': {'displayName': 'A Chang',\n",
       "    'uri': 'https://www.google.com/maps/contrib/103746863156331604982/reviews',\n",
       "    'photoUri': 'https://lh3.googleusercontent.com/a-/ALV-UjUWm729ZW0xCEqDTatqD6RNiSZTlTnPKmD3s8gKDyBWvg=s128-c0x00000000-cc-rp-mo-ba5'},\n",
       "   'publishTime': '2024-02-02T11:46:35Z'}],\n",
       " 'photos': [{'name': 'places/ChIJZTzQ4y_fx0cR4m292pUWJyM/photos/ATplDJZT-z74rslxqtEGi9u2QQ0kAgZvFEDbWp42WIaHFJYooORKPSZQVH-x_bUF1CcKN5B10kT-Di3I8Knffw_Pzw9GIjrHqsmV3plQq1VzJXn4-n1lDN2qmMKdlLl5tf3kSXGz5mpp__EAtzmiM3WZqk3ndsQfQctJU5QC',\n",
       "   'widthPx': 12000,\n",
       "   'heightPx': 9000,\n",
       "   'authorAttributions': [{'displayName': 'Lef Lane',\n",
       "     'uri': '//maps.google.com/maps/contrib/116778537415697490679',\n",
       "     'photoUri': '//lh3.googleusercontent.com/a-/ALV-UjU2shCRm2MzEPRyh3DtgHbbLRyy-RxW8PB0prOsVlQW_Q=s100-p-k-no-mo'}]},\n",
       "  {'name': 'places/ChIJZTzQ4y_fx0cR4m292pUWJyM/photos/ATplDJbZSTu2yh2F87CVj9QLiX7Bkcz026XJAh0KmKu2lmWBf9d2BW76pBuqJKBArVYondVRYznLexHsGCoBOhBGjf_IOKeWLIe2vp_cc6rHqU3us66ed1YsbI9QScSFD6iIIql-A89nNvtwrJ7u0x3-ewVk3S6kzhsyx7Nq',\n",
       "   'widthPx': 1021,\n",
       "   'heightPx': 680,\n",
       "   'authorAttributions': [{'displayName': 'De Librije',\n",
       "     'uri': '//maps.google.com/maps/contrib/105555007240130573039',\n",
       "     'photoUri': '//lh3.googleusercontent.com/a-/ALV-UjXNzbua6ozgeCbZ0en1V5Vx89HQihnbnX5Tyc-sBaC8CVY=s100-p-k-no-mo'}]},\n",
       "  {'name': 'places/ChIJZTzQ4y_fx0cR4m292pUWJyM/photos/ATplDJarXXnS1OdBwEdwUWZGUis8PVSJ8gl5vXd3fWwNaCRPucmc0GphG2UId9VgRlTTgRzyfbJKKb5OwB76zdwOfGgg1muw_AW1xff2NDEIrMucooFbgf1vPsfmtrunOn8Bt6HaT8iWGKsjUrSnKgtPIL00kOZZDuiH5enj',\n",
       "   'widthPx': 3024,\n",
       "   'heightPx': 4032,\n",
       "   'authorAttributions': [{'displayName': 'Katharina Marx',\n",
       "     'uri': '//maps.google.com/maps/contrib/115326652664450265326',\n",
       "     'photoUri': '//lh3.googleusercontent.com/a-/ALV-UjWboJySm65QIgHrXCr7aVtQi41NoQv4Pc3yUaWsKRE7dzY=s100-p-k-no-mo'}]},\n",
       "  {'name': 'places/ChIJZTzQ4y_fx0cR4m292pUWJyM/photos/ATplDJYbpGcdogRae-5UPtSYluyiT_13UTHTwCtfeqBgwgrvu1Sd0YMtj-d4GZE9kThW9XE8ozMK9c5j55l8VBH77VihPlzq41zVZxKwo_BuWx0p1sLXEHGtXg6cRDZDAO6RSd6Ubasq50btyi7VhswaJeMEiqVZpE62QU5f',\n",
       "   'widthPx': 1702,\n",
       "   'heightPx': 1133,\n",
       "   'authorAttributions': [{'displayName': 'De Librije',\n",
       "     'uri': '//maps.google.com/maps/contrib/105555007240130573039',\n",
       "     'photoUri': '//lh3.googleusercontent.com/a-/ALV-UjXNzbua6ozgeCbZ0en1V5Vx89HQihnbnX5Tyc-sBaC8CVY=s100-p-k-no-mo'}]},\n",
       "  {'name': 'places/ChIJZTzQ4y_fx0cR4m292pUWJyM/photos/ATplDJYidalvr-DjM_e-R3XeEaPP45DoB-VHNKsW6ywPnMrJJcxvD_WH9MBvPn5_Ki2Hp5wgTAFnBHrTMahHwMOIK4ZUqpKJdRgWb2p_DKfoQXTw127-jmxtD7iGFoA0R2ESBGyKef1TeJVpRhMUp4HYlPLrTF9NLuDXAAIN',\n",
       "   'widthPx': 1766,\n",
       "   'heightPx': 1179,\n",
       "   'authorAttributions': [{'displayName': 'De Librije',\n",
       "     'uri': '//maps.google.com/maps/contrib/105555007240130573039',\n",
       "     'photoUri': '//lh3.googleusercontent.com/a-/ALV-UjXNzbua6ozgeCbZ0en1V5Vx89HQihnbnX5Tyc-sBaC8CVY=s100-p-k-no-mo'}]},\n",
       "  {'name': 'places/ChIJZTzQ4y_fx0cR4m292pUWJyM/photos/ATplDJb0vgyHRUIP30VDKz2Va8bTWifxZ3gl_8uW6MlVaxGvm6qMkOmKslyvjOmGsNhYtlVRnmhpMWzL2UeoMEevrzXTROvI3IHfqcMWBJLSmJt0axte9e6WQPsjW4p_-CnOihp5988gEclg6I1x4o8jxtNaDebDh5_R_q9l',\n",
       "   'widthPx': 1021,\n",
       "   'heightPx': 680,\n",
       "   'authorAttributions': [{'displayName': 'De Librije',\n",
       "     'uri': '//maps.google.com/maps/contrib/105555007240130573039',\n",
       "     'photoUri': '//lh3.googleusercontent.com/a-/ALV-UjXNzbua6ozgeCbZ0en1V5Vx89HQihnbnX5Tyc-sBaC8CVY=s100-p-k-no-mo'}]},\n",
       "  {'name': 'places/ChIJZTzQ4y_fx0cR4m292pUWJyM/photos/ATplDJZPe0qMNAGXZRrJQ76L_kTH-j-FSyheWJDmxrA8R8Zcd8871-LmZjxh7YuBUCJ59hfmKwVc133pRcj_QiK1TexUTE0PvaoXDULtkktRlWU4twKijHAtZihixC9tO-oyRNVAq4OZuW_TE6G3UfV7kRE_iJfysXsP1kky',\n",
       "   'widthPx': 1766,\n",
       "   'heightPx': 1179,\n",
       "   'authorAttributions': [{'displayName': 'De Librije',\n",
       "     'uri': '//maps.google.com/maps/contrib/105555007240130573039',\n",
       "     'photoUri': '//lh3.googleusercontent.com/a-/ALV-UjXNzbua6ozgeCbZ0en1V5Vx89HQihnbnX5Tyc-sBaC8CVY=s100-p-k-no-mo'}]},\n",
       "  {'name': 'places/ChIJZTzQ4y_fx0cR4m292pUWJyM/photos/ATplDJZRnijKhlK0ykh8uDXWc177rcl313UIIhGQQbb7wk7wNWxAp51X5cop6SaGHjlOktugpLZF_x8tQDifdVeviRUKHKenSz-OoT0ZA41bgRmNdTea0eTd0GUcCm80VR1joVaNwCo9IWbGlxNu0CKkmitq4hDOEga1j6UQ',\n",
       "   'widthPx': 2650,\n",
       "   'heightPx': 2650,\n",
       "   'authorAttributions': [{'displayName': 'De Librije',\n",
       "     'uri': '//maps.google.com/maps/contrib/105555007240130573039',\n",
       "     'photoUri': '//lh3.googleusercontent.com/a-/ALV-UjXNzbua6ozgeCbZ0en1V5Vx89HQihnbnX5Tyc-sBaC8CVY=s100-p-k-no-mo'}]},\n",
       "  {'name': 'places/ChIJZTzQ4y_fx0cR4m292pUWJyM/photos/ATplDJb_Pm5HEdD5kThoRFAku8efW3_lX-Y2XppkH-PQXqsiJY06SENvPZDdguU-tZLoulcDdvWy_vt4RZ9IWhsvBYP0AI5_nWeMsFnBN-LETwZYeoba8NI5BJXZUHXEw0aOS5Uf6uguVqk831pfCHGutjuTzKMul6f3NAIw',\n",
       "   'widthPx': 1021,\n",
       "   'heightPx': 680,\n",
       "   'authorAttributions': [{'displayName': 'De Librije',\n",
       "     'uri': '//maps.google.com/maps/contrib/105555007240130573039',\n",
       "     'photoUri': '//lh3.googleusercontent.com/a-/ALV-UjXNzbua6ozgeCbZ0en1V5Vx89HQihnbnX5Tyc-sBaC8CVY=s100-p-k-no-mo'}]},\n",
       "  {'name': 'places/ChIJZTzQ4y_fx0cR4m292pUWJyM/photos/ATplDJZ1mzhl1VDE-4WbxFjkXO0FnHA142SrlOjw0A07R-LLMPi5IYDtCcdCzKS02-OrnERJc8yfwgXkpNjH7BtaOVtDc45DSevuybIfpRqCrOC3lDpPXdFC-9yuoF8PpuabsUn_dOmhzRWiZALkJGZGDeIHGp0WtxpVXOH8',\n",
       "   'widthPx': 2650,\n",
       "   'heightPx': 2650,\n",
       "   'authorAttributions': [{'displayName': 'De Librije',\n",
       "     'uri': '//maps.google.com/maps/contrib/105555007240130573039',\n",
       "     'photoUri': '//lh3.googleusercontent.com/a-/ALV-UjXNzbua6ozgeCbZ0en1V5Vx89HQihnbnX5Tyc-sBaC8CVY=s100-p-k-no-mo'}]}],\n",
       " 'goodForChildren': False,\n",
       " 'paymentOptions': {'acceptsCreditCards': True},\n",
       " 'accessibilityOptions': {'wheelchairAccessibleParking': True,\n",
       "  'wheelchairAccessibleEntrance': True}}"
      ]
     },
     "execution_count": 63,
     "metadata": {},
     "output_type": "execute_result"
    }
   ],
   "source": [
    "google_location_details = get_google_location_details(location_id)\n",
    "google_location_details"
   ]
  },
  {
   "cell_type": "code",
   "execution_count": 88,
   "metadata": {},
   "outputs": [],
   "source": [
    "the_fork_autocomplete = get_the_fork_autocomplete(test_entry['Name'])"
   ]
  },
  {
   "cell_type": "code",
   "execution_count": 89,
   "metadata": {},
   "outputs": [
    {
     "data": {
      "text/plain": [
       "{'data': {'geolocation': []}}"
      ]
     },
     "execution_count": 89,
     "metadata": {},
     "output_type": "execute_result"
    }
   ],
   "source": [
    "the_fork_autocomplete"
   ]
  }
 ],
 "metadata": {
  "kernelspec": {
   "display_name": "adaexam",
   "language": "python",
   "name": "python3"
  },
  "language_info": {
   "codemirror_mode": {
    "name": "ipython",
    "version": 3
   },
   "file_extension": ".py",
   "mimetype": "text/x-python",
   "name": "python",
   "nbconvert_exporter": "python",
   "pygments_lexer": "ipython3",
   "version": "3.9.7"
  }
 },
 "nbformat": 4,
 "nbformat_minor": 2
}
